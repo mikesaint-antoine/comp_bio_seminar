{
 "cells": [
  {
   "cell_type": "markdown",
   "id": "95b93dcb",
   "metadata": {},
   "source": [
    "# Computational Biology Seminar\n",
    "## Project 2: Genomics\n",
    "\n",
    "The goal for this project is to do a genome-wide association study (GWAS) using a mock dataset (since the real datasets required for this typically aren't publicly available)."
   ]
  },
  {
   "cell_type": "code",
   "execution_count": 29,
   "id": "e6922947",
   "metadata": {},
   "outputs": [],
   "source": [
    "import csv\n",
    "import numpy as np\n",
    "import matplotlib.pyplot as plt\n",
    "from scipy.stats import chi2_contingency"
   ]
  },
  {
   "cell_type": "markdown",
   "id": "da13ff02",
   "metadata": {},
   "source": [
    "### **Step 1:** Reading in the data\n",
    "\n",
    "In our mock dataset, there is a row for each SNP. For each row, the first three columns contain the information about the SNP: snp_id (chromosome number and position), the reference nucleotide, and the variant nucleotide. \n",
    "\n",
    "Then, there are 200 columns, corresponding to the 200 samples labeled in the heading row. The first 100 are the control samples (those that didn't turn into zombies). The next 100 are the \"case\" samples -- those that did turn into zombies. For each SNP, the column for each samples contains a 0, 1, or 2. This tells us whether that person was homozygous for the reference nucleotide (0), heterozygous (1), or homozygous for the variant nucleotide.\n",
    "\n",
    "To start, let's read in all this data. We'll store the first three columns in a list called `snp_info`, and the rest in a list of lists called `data`."
   ]
  },
  {
   "cell_type": "code",
   "execution_count": 30,
   "id": "307ec9d2",
   "metadata": {},
   "outputs": [],
   "source": [
    "snp_info = []\n",
    "data = []\n",
    "with open(\"data/example_data.csv\") as csvfile:\n",
    "    reader = csv.reader(csvfile, delimiter=',')\n",
    "\n",
    "    for row in reader:\n",
    "\n",
    "        snp_info.append(row[0:3])\n",
    "        data.append(row[3:])"
   ]
  },
  {
   "cell_type": "markdown",
   "id": "525a7bf6",
   "metadata": {},
   "source": [
    "The first row was the column headings, so we'll remove that from both `snp_info` and `data` and store it separately."
   ]
  },
  {
   "cell_type": "code",
   "execution_count": 31,
   "id": "f26650bf",
   "metadata": {},
   "outputs": [],
   "source": [
    "snp_header = snp_info[0]\n",
    "snp_info = snp_info[1:]\n",
    "\n",
    "samples = data[0]\n",
    "data = data[1:]"
   ]
  },
  {
   "cell_type": "markdown",
   "id": "963be8a4",
   "metadata": {},
   "source": [
    "Next, we'll cast all these lists to NumPy arrays to make them easier to work with. And remember, we need to cast the elements in `data` to ints since they were read in as strings by default."
   ]
  },
  {
   "cell_type": "code",
   "execution_count": 32,
   "id": "059619d3",
   "metadata": {},
   "outputs": [],
   "source": [
    "snp_info = np.array(snp_info)\n",
    "data = np.array(data).astype(int)\n",
    "\n",
    "snp_header = np.array(snp_header)\n",
    "samples = np.array(samples)"
   ]
  },
  {
   "cell_type": "markdown",
   "id": "5cb57d95",
   "metadata": {},
   "source": [
    "Quick shape check..."
   ]
  },
  {
   "cell_type": "code",
   "execution_count": 33,
   "id": "3ade6308",
   "metadata": {},
   "outputs": [
    {
     "name": "stdout",
     "output_type": "stream",
     "text": [
      "(48752, 3)\n",
      "(48752, 200)\n",
      "\n",
      "(3,)\n",
      "(200,)\n"
     ]
    }
   ],
   "source": [
    "print(snp_info.shape)\n",
    "print(data.shape)\n",
    "print()\n",
    "print(snp_header.shape)\n",
    "print(samples.shape)"
   ]
  },
  {
   "cell_type": "markdown",
   "id": "2f95952b",
   "metadata": {},
   "source": [
    "Quick content check..."
   ]
  },
  {
   "cell_type": "code",
   "execution_count": 34,
   "id": "17290504",
   "metadata": {},
   "outputs": [
    {
     "name": "stdout",
     "output_type": "stream",
     "text": [
      "snp_header:\n",
      "['snp_id' 'ref' 'var']\n",
      "\n",
      "samples:\n",
      "['normal_1' 'normal_2' 'normal_3' 'normal_4']\n",
      "\n",
      "snp_info:\n",
      "[['chr1:944564' 'T' 'C']\n",
      " ['chr1:950243' 'A' 'C']\n",
      " ['chr1:959842' 'C' 'T']\n",
      " ['chr1:990417' 'T' 'C']\n",
      " ['chr1:1297065' 'C' 'T']]\n",
      "\n",
      "data:\n",
      "[[0 1 1 1]\n",
      " [2 2 1 1]\n",
      " [1 2 1 2]\n",
      " [0 2 2 2]\n",
      " [2 1 0 1]]\n",
      "\n"
     ]
    }
   ],
   "source": [
    "print(\"snp_header:\")\n",
    "print(snp_header)\n",
    "print()\n",
    "\n",
    "print(\"samples:\")\n",
    "print(samples[0:4])\n",
    "print()\n",
    "\n",
    "print(\"snp_info:\")\n",
    "print(snp_info[0:5])\n",
    "print()\n",
    "\n",
    "print(\"data:\")\n",
    "print(data[0:5,0:4])\n",
    "print()"
   ]
  },
  {
   "cell_type": "markdown",
   "id": "d36e377f",
   "metadata": {},
   "source": [
    "Next we want to make an array with the case/control (zombie/normal) labels for each sample. We can do this with some pretty basic string manipulation."
   ]
  },
  {
   "cell_type": "code",
   "execution_count": 35,
   "id": "2795c05f",
   "metadata": {},
   "outputs": [],
   "source": [
    "labels = []\n",
    "\n",
    "for i in range(len(samples)):\n",
    "    tmp = samples[i].split(\"_\")\n",
    "    labels.append(tmp[0])\n",
    "    \n",
    "labels = np.array(labels)"
   ]
  },
  {
   "cell_type": "markdown",
   "id": "d8800752",
   "metadata": {},
   "source": [
    "Quick checks..."
   ]
  },
  {
   "cell_type": "code",
   "execution_count": 36,
   "id": "9f914852",
   "metadata": {},
   "outputs": [
    {
     "name": "stdout",
     "output_type": "stream",
     "text": [
      "['normal' 'normal' 'normal' 'normal' 'normal']\n",
      "{'normal', 'zombie'}\n"
     ]
    }
   ],
   "source": [
    "print(labels[0:5])\n",
    "\n",
    "print(set(labels))"
   ]
  },
  {
   "cell_type": "markdown",
   "id": "2c7d7359",
   "metadata": {},
   "source": [
    "### **Step 2:** Filtering SNPs\n",
    "\n",
    "Before doing the GWAS analysis, we'll filter down our list of SNPs a bit and keep only the ones that have sufficient representation of both the reference and variant alleles, since these are the ones that will be interesting to look at.\n",
    "\n",
    "To do this, we'll calculate the **minor allele frequency (MAF)** for each SNP. Note: \"minor allele\" here just means the less common allele of the two, and can be either the reference or variant allele. Before we do the filter, let's practice calculating this number for just the first SNP."
   ]
  },
  {
   "cell_type": "code",
   "execution_count": 37,
   "id": "2f73907f",
   "metadata": {},
   "outputs": [
    {
     "name": "stdout",
     "output_type": "stream",
     "text": [
      "[0 1 1 1 0 1 0 0 0 0 0 1 0 0 0 1 0 1 0 0 0 1 0 0 0 1 1 0 0 0 0 1 0 0 0 1 0\n",
      " 0 0 0 0 0 0 0 1 0 0 1 1 0 0 0 0 0 1 0 0 1 2 0 1 0 0 1 1 0 0 0 0 0 0 0 0 1\n",
      " 0 0 0 0 0 0 0 2 0 0 0 0 1 0 1 0 0 0 0 0 0 1 1 0 0 0 0 0 0 0 0 0 0 0 1 0 0\n",
      " 1 1 0 0 0 0 1 1 0 0 0 0 0 0 0 0 0 1 0 0 1 0 0 0 0 0 0 1 1 1 0 1 1 1 0 0 0\n",
      " 0 0 1 1 0 0 0 1 0 0 0 0 0 0 0 0 1 0 1 0 0 1 0 0 1 1 0 0 1 0 0 1 1 1 0 0 0\n",
      " 0 1 0 0 0 0 0 1 0 1 0 0 0 1 0]\n"
     ]
    }
   ],
   "source": [
    "first_snp = data[0,:]\n",
    "\n",
    "print(first_snp)"
   ]
  },
  {
   "cell_type": "markdown",
   "id": "1b067c22",
   "metadata": {},
   "source": [
    "To get the MAF, we'll need the total count of all alleles for the SNP. Since every sample has 2 alleles, we can get this by multiplying the number of samples by 2. This should give us 400."
   ]
  },
  {
   "cell_type": "code",
   "execution_count": 38,
   "id": "b260aec2",
   "metadata": {},
   "outputs": [
    {
     "name": "stdout",
     "output_type": "stream",
     "text": [
      "400\n"
     ]
    }
   ],
   "source": [
    "total_alleles_per_snp = len(samples)*2\n",
    "\n",
    "print(total_alleles_per_snp)"
   ]
  },
  {
   "cell_type": "markdown",
   "id": "53c593a6",
   "metadata": {},
   "source": [
    "Next, we need the reference allele count for the first SNP. Remember, if a sample is labeled with `0`, that means it has 2 copies of the reference allele (\"homozygous\" for the reference allele). If it's labeled with `1`, that means it has 1 copy of the reference allele (\"heterozygous\"). So we can get the reference allele count for the first SNP like this:"
   ]
  },
  {
   "cell_type": "code",
   "execution_count": 39,
   "id": "1d26dddd",
   "metadata": {},
   "outputs": [
    {
     "name": "stdout",
     "output_type": "stream",
     "text": [
      "342\n"
     ]
    }
   ],
   "source": [
    "ref_allele_count = 2 * np.sum(first_snp == 0) + np.sum(first_snp == 1)\n",
    "\n",
    "print(ref_allele_count)"
   ]
  },
  {
   "cell_type": "markdown",
   "id": "e1482a60",
   "metadata": {},
   "source": [
    "Now we'll get the variant allele count. If a sample is labeled with `2`, that means it has 2 copies of the variant allele (\"homozygous\" for the variant allele), and if it's labeled with `1`, that means it has 1 copy (\"heterozygous\")."
   ]
  },
  {
   "cell_type": "code",
   "execution_count": 40,
   "id": "c711d60b",
   "metadata": {},
   "outputs": [
    {
     "name": "stdout",
     "output_type": "stream",
     "text": [
      "58\n"
     ]
    }
   ],
   "source": [
    "var_allele_count = 2 * np.sum(first_snp == 2) + np.sum(first_snp == 1)\n",
    "\n",
    "print(var_allele_count)"
   ]
  },
  {
   "cell_type": "markdown",
   "id": "2f4dbcf4",
   "metadata": {},
   "source": [
    "Now we'll compute the minor allele frequency. Remember, \"minor allele\" just means the less common one, and it can be either the reference allele or the variant allele. So we'll use `min(ref_allele_count, var_allele_count)` to select the less common of the two, and then divide by `total_alleles_per_snp` to get the frequency."
   ]
  },
  {
   "cell_type": "code",
   "execution_count": 41,
   "id": "2c6835a6",
   "metadata": {},
   "outputs": [
    {
     "name": "stdout",
     "output_type": "stream",
     "text": [
      "0.145\n"
     ]
    }
   ],
   "source": [
    "maf = min(ref_allele_count, var_allele_count) / total_alleles_per_snp\n",
    "\n",
    "print(maf)"
   ]
  },
  {
   "cell_type": "markdown",
   "id": "052aa6bd",
   "metadata": {},
   "source": [
    "Ok! Now that we have our minor allele frequency, we can decide to keep or filter out the SNP, based on whether or not it passes a threshold that we set. Common thresholds are `0.01` or `0.05`, so using either one of those we'd end up keeping this SNP.\n",
    "\n",
    "Now we can go through and do this calculation for every SNP, and keep a record of the ones that pass the threshold, which we'll set to `0.05`."
   ]
  },
  {
   "cell_type": "code",
   "execution_count": 42,
   "id": "61b8af10",
   "metadata": {},
   "outputs": [],
   "source": [
    "maf_threshold = 0.05\n",
    "total_alleles_per_snp = len(samples)*2\n",
    "\n",
    "\n",
    "to_keep = []\n",
    "\n",
    "for i in range(data.shape[0]):\n",
    "    \n",
    "    ref_allele_count = 2 * np.sum(data[i,:] == 0) + np.sum(data[i,:] == 1)\n",
    "    var_allele_count = 2 * np.sum(data[i,:] == 2) + np.sum(data[i,:] == 1)\n",
    "\n",
    "    maf = min(ref_allele_count, var_allele_count) / total_alleles_per_snp\n",
    "\n",
    "    if maf >= maf_threshold:\n",
    "        to_keep.append(True)\n",
    "    else:\n",
    "        to_keep.append(False)"
   ]
  },
  {
   "cell_type": "markdown",
   "id": "2554a3ff",
   "metadata": {},
   "source": [
    "Now we apply the filter:"
   ]
  },
  {
   "cell_type": "code",
   "execution_count": 43,
   "id": "7013554f",
   "metadata": {},
   "outputs": [
    {
     "name": "stdout",
     "output_type": "stream",
     "text": [
      "shape checks:\n",
      "(43908, 3)\n",
      "(43908, 200)\n",
      "\n",
      "Percent kept: 90.06399737446668\n"
     ]
    }
   ],
   "source": [
    "to_keep = np.array(to_keep)\n",
    "\n",
    "filtered_snp_info = snp_info[to_keep,:]\n",
    "filtered_data = data[to_keep,:]\n",
    "\n",
    "\n",
    "print(\"shape checks:\")\n",
    "print(filtered_snp_info.shape)\n",
    "print(filtered_data.shape)\n",
    "print()\n",
    "\n",
    "print(f\"Percent kept: {filtered_data.shape[0] / data.shape[0] * 100}\")"
   ]
  },
  {
   "cell_type": "markdown",
   "id": "8f6a1c1c",
   "metadata": {},
   "source": [
    "### **Step 3:** GWAS analysis\n",
    "\n",
    "Now, we'll check each SNP to see if its distribution differs significantly between the zombie/normal phenotypes. To do this, we'll use the [chi-squared test.](https://en.wikipedia.org/wiki/Chi-squared_test) If you're not familiar with this test, I recommend checking out these Khan Academy videos to learn about it: [video 1,](https://www.youtube.com/watch?v=dXB3cUGnaxQ) [video 2,](https://www.youtube.com/watch?v=2QeDRsxSF9M) and [video 3.](https://www.youtube.com/watch?v=hpWdDmgsIRE) To do this, we'll use the `chi2_contingency` function that we imported from `scipy.stats` at the top.\n",
    "\n",
    "To start, we're going to convert our `labels` array to a binary array, where 1 means \"zombie\" and 0 means \"normal\". This will make some of the following steps easier. Here's how we do that:"
   ]
  },
  {
   "cell_type": "code",
   "execution_count": 45,
   "id": "37dc0d76",
   "metadata": {},
   "outputs": [
    {
     "name": "stdout",
     "output_type": "stream",
     "text": [
      "[0 0 0 0 0 0 0 0 0 0 0 0 0 0 0 0 0 0 0 0 0 0 0 0 0 0 0 0 0 0 0 0 0 0 0 0 0\n",
      " 0 0 0 0 0 0 0 0 0 0 0 0 0 0 0 0 0 0 0 0 0 0 0 0 0 0 0 0 0 0 0 0 0 0 0 0 0\n",
      " 0 0 0 0 0 0 0 0 0 0 0 0 0 0 0 0 0 0 0 0 0 0 0 0 0 0 1 1 1 1 1 1 1 1 1 1 1\n",
      " 1 1 1 1 1 1 1 1 1 1 1 1 1 1 1 1 1 1 1 1 1 1 1 1 1 1 1 1 1 1 1 1 1 1 1 1 1\n",
      " 1 1 1 1 1 1 1 1 1 1 1 1 1 1 1 1 1 1 1 1 1 1 1 1 1 1 1 1 1 1 1 1 1 1 1 1 1\n",
      " 1 1 1 1 1 1 1 1 1 1 1 1 1 1 1]\n"
     ]
    }
   ],
   "source": [
    "encoded_labels = np.where(labels == \"zombie\", 1, 0)\n",
    "\n",
    "print(encoded_labels)"
   ]
  },
  {
   "cell_type": "markdown",
   "id": "71940f04",
   "metadata": {},
   "source": [
    "Now, let's try out this statistical test on just the first SNP, to make sure it's working properly. We'll start by getting all the genotypes for that SNP like this:"
   ]
  },
  {
   "cell_type": "code",
   "execution_count": 46,
   "id": "f02fb3ae",
   "metadata": {},
   "outputs": [],
   "source": [
    "snp_genotypes = filtered_data[0, :]"
   ]
  },
  {
   "cell_type": "markdown",
   "id": "9449422c",
   "metadata": {},
   "source": [
    "Remember, this tells us whether each sample was homozygous for the reference nucleotide (0), heterozygous (1), or homozygous for the variant nucleotide (2), for all 200 of of samples. Let's take a look."
   ]
  },
  {
   "cell_type": "code",
   "execution_count": 47,
   "id": "e7893cc6",
   "metadata": {},
   "outputs": [
    {
     "name": "stdout",
     "output_type": "stream",
     "text": [
      "[0 1 1 1 0 1 0 0 0 0 0 1 0 0 0 1 0 1 0 0 0 1 0 0 0 1 1 0 0 0 0 1 0 0 0 1 0\n",
      " 0 0 0 0 0 0 0 1 0 0 1 1 0 0 0 0 0 1 0 0 1 2 0 1 0 0 1 1 0 0 0 0 0 0 0 0 1\n",
      " 0 0 0 0 0 0 0 2 0 0 0 0 1 0 1 0 0 0 0 0 0 1 1 0 0 0 0 0 0 0 0 0 0 0 1 0 0\n",
      " 1 1 0 0 0 0 1 1 0 0 0 0 0 0 0 0 0 1 0 0 1 0 0 0 0 0 0 1 1 1 0 1 1 1 0 0 0\n",
      " 0 0 1 1 0 0 0 1 0 0 0 0 0 0 0 0 1 0 1 0 0 1 0 0 1 1 0 0 1 0 0 1 1 1 0 0 0\n",
      " 0 1 0 0 0 0 0 1 0 1 0 0 0 1 0]\n"
     ]
    }
   ],
   "source": [
    "print(snp_genotypes)"
   ]
  },
  {
   "cell_type": "markdown",
   "id": "0b1c8268",
   "metadata": {},
   "source": [
    "Next, we'll fill something called a *contingency table* for the chi-squared test. Again, if you've never heard of this before, the Khan Academy videos ([video 1,](https://www.youtube.com/watch?v=dXB3cUGnaxQ) [video 2,](https://www.youtube.com/watch?v=2QeDRsxSF9M) [video 3](https://www.youtube.com/watch?v=hpWdDmgsIRE)) do a good job explaining it. But basically, it's a table with a row for every phenotype label (2 in our case - \"normal\" and \"zombie\") and a column for every SNP genotype (3 in our case - 0, 1, and 2). Each element tells us how many samples had the phenotype/genotype combination. For example: \n",
    "\n",
    "\n",
    "| | Homozygous reference (0) | Heterozygous (1) | Homozygous variant (2) |\n",
    "| --- | --- | --- | --- |\n",
    "| **Normal** | 49 | 43 | 8 |\n",
    "| **Zombie** | 42 | 47 | 11 |\n",
    "\n",
    "Let's try making a table like this, starting with a 2-dimensional NumPy array of 0s, and filling it up accordingly using the first row of genotype data that we've saved in `snp_genotypes`."
   ]
  },
  {
   "cell_type": "code",
   "execution_count": 48,
   "id": "4ee750d2",
   "metadata": {},
   "outputs": [
    {
     "name": "stdout",
     "output_type": "stream",
     "text": [
      "[[73. 25.  2.]\n",
      " [71. 29.  0.]]\n"
     ]
    }
   ],
   "source": [
    "contingency_table = np.zeros((2, 3))\n",
    "for j in range(len(snp_genotypes)):\n",
    "    genotype = snp_genotypes[j]\n",
    "    status = encoded_labels[j]\n",
    "    \n",
    "    contingency_table[status, genotype] += 1\n",
    "\n",
    "\n",
    "print(contingency_table)"
   ]
  },
  {
   "cell_type": "markdown",
   "id": "eb995c27",
   "metadata": {},
   "source": [
    "Now, we'll use this contingency table as an input to the `chi2_contingency` function, which will test the null hypothesis that the two phenotypes do not differ in terms of SNP frequency."
   ]
  },
  {
   "cell_type": "code",
   "execution_count": 49,
   "id": "74c998fe",
   "metadata": {},
   "outputs": [
    {
     "name": "stdout",
     "output_type": "stream",
     "text": [
      "0.3128482478887089\n"
     ]
    }
   ],
   "source": [
    "chi2, p_value, _, _ = chi2_contingency(contingency_table)\n",
    "\n",
    "\n",
    "print(p_value)"
   ]
  },
  {
   "cell_type": "markdown",
   "id": "a2c44ae1",
   "metadata": {},
   "source": [
    "Ok, looks good! Now we just need to do this for all the SNPs and record the p-values."
   ]
  },
  {
   "cell_type": "code",
   "execution_count": 50,
   "id": "dc734109",
   "metadata": {},
   "outputs": [
    {
     "ename": "ValueError",
     "evalue": "The internally computed table of expected frequencies has a zero element at (0, 0).",
     "output_type": "error",
     "traceback": [
      "\u001b[0;31m---------------------------------------------------------------------------\u001b[0m",
      "\u001b[0;31mValueError\u001b[0m                                Traceback (most recent call last)",
      "Cell \u001b[0;32mIn[50], line 16\u001b[0m\n\u001b[1;32m     12\u001b[0m     status \u001b[38;5;241m=\u001b[39m encoded_labels[j]\n\u001b[1;32m     14\u001b[0m     contingency_table[status, genotype] \u001b[38;5;241m+\u001b[39m\u001b[38;5;241m=\u001b[39m \u001b[38;5;241m1\u001b[39m\n\u001b[0;32m---> 16\u001b[0m chi2, p_value, _, _ \u001b[38;5;241m=\u001b[39m \u001b[43mchi2_contingency\u001b[49m\u001b[43m(\u001b[49m\u001b[43mcontingency_table\u001b[49m\u001b[43m)\u001b[49m\n\u001b[1;32m     18\u001b[0m p_values\u001b[38;5;241m.\u001b[39mappend(p_value)\n",
      "File \u001b[0;32m/Library/Frameworks/Python.framework/Versions/3.11/lib/python3.11/site-packages/scipy/stats/contingency.py:340\u001b[0m, in \u001b[0;36mchi2_contingency\u001b[0;34m(observed, correction, lambda_)\u001b[0m\n\u001b[1;32m    336\u001b[0m \u001b[38;5;28;01mif\u001b[39;00m np\u001b[38;5;241m.\u001b[39many(expected \u001b[38;5;241m==\u001b[39m \u001b[38;5;241m0\u001b[39m):\n\u001b[1;32m    337\u001b[0m     \u001b[38;5;66;03m# Include one of the positions where expected is zero in\u001b[39;00m\n\u001b[1;32m    338\u001b[0m     \u001b[38;5;66;03m# the exception message.\u001b[39;00m\n\u001b[1;32m    339\u001b[0m     zeropos \u001b[38;5;241m=\u001b[39m \u001b[38;5;28mlist\u001b[39m(\u001b[38;5;28mzip\u001b[39m(\u001b[38;5;241m*\u001b[39mnp\u001b[38;5;241m.\u001b[39mnonzero(expected \u001b[38;5;241m==\u001b[39m \u001b[38;5;241m0\u001b[39m)))[\u001b[38;5;241m0\u001b[39m]\n\u001b[0;32m--> 340\u001b[0m     \u001b[38;5;28;01mraise\u001b[39;00m \u001b[38;5;167;01mValueError\u001b[39;00m(\u001b[38;5;124m\"\u001b[39m\u001b[38;5;124mThe internally computed table of expected \u001b[39m\u001b[38;5;124m\"\u001b[39m\n\u001b[1;32m    341\u001b[0m                      \u001b[38;5;124m\"\u001b[39m\u001b[38;5;124mfrequencies has a zero element at \u001b[39m\u001b[38;5;132;01m{}\u001b[39;00m\u001b[38;5;124m.\u001b[39m\u001b[38;5;124m\"\u001b[39m\u001b[38;5;241m.\u001b[39mformat(zeropos))\n\u001b[1;32m    343\u001b[0m \u001b[38;5;66;03m# The degrees of freedom\u001b[39;00m\n\u001b[1;32m    344\u001b[0m dof \u001b[38;5;241m=\u001b[39m expected\u001b[38;5;241m.\u001b[39msize \u001b[38;5;241m-\u001b[39m \u001b[38;5;28msum\u001b[39m(expected\u001b[38;5;241m.\u001b[39mshape) \u001b[38;5;241m+\u001b[39m expected\u001b[38;5;241m.\u001b[39mndim \u001b[38;5;241m-\u001b[39m \u001b[38;5;241m1\u001b[39m\n",
      "\u001b[0;31mValueError\u001b[0m: The internally computed table of expected frequencies has a zero element at (0, 0)."
     ]
    }
   ],
   "source": [
    "p_values = []\n",
    "\n",
    "for i in range(filtered_data.shape[0]):\n",
    "    \n",
    "    snp_genotypes = filtered_data[i, :]\n",
    "\n",
    "    contingency_table = np.zeros((2, 3))\n",
    "\n",
    "    for j in range(len(snp_genotypes)):\n",
    "\n",
    "        genotype = snp_genotypes[j]\n",
    "        status = encoded_labels[j]\n",
    "\n",
    "        contingency_table[status, genotype] += 1\n",
    "\n",
    "    chi2, p_value, _, _ = chi2_contingency(contingency_table)\n",
    "\n",
    "    p_values.append(p_value)\n"
   ]
  },
  {
   "cell_type": "markdown",
   "id": "f51b7f42",
   "metadata": {},
   "source": [
    "Oh no! This gave us an error! That's because for one of the SNPs, the continency table had a column that was all 0s -- meaning that one of the genotype possibilities (0, 1, or 2) was not found at all in either of the conditions. Unfortunately the `chi2_contingency` function doesn't work when one of the columns is all 0s.\n",
    "\n",
    "To deal with this, we'll use a little trick, similar to the *epsilon* trick we used in the transcriptomics project to avoid a division-by-zero error. Whenever we run into a SNP that has this problem of a zeros-column, we'll simply add 1 to every element in the contingency table.\n",
    "\n",
    "Is it ok to do this? Well, that depends on what our goal is. If we were pure mathematicians trying to write a solid proof, then this would *not* be ok, because when we use this trick for a SNP the result won't really be a true p-value. But our goal here isn't to write a pure math proof, it's to investigate the relationship between these SNPs and the phenotypes. So it really comes down to a judgement call, and in this case I think it's ok to do as long as we document that we're doing it so as to not misrepresent the results.\n",
    "\n",
    "Here's what the new code looks like, applying this trick to avoid the error:"
   ]
  },
  {
   "cell_type": "code",
   "execution_count": 54,
   "id": "8351813a",
   "metadata": {},
   "outputs": [],
   "source": [
    "p_values = []\n",
    "\n",
    "for i in range(filtered_data.shape[0]):\n",
    "  \n",
    "    snp_genotypes = filtered_data[i, :]\n",
    "\n",
    "    contingency_table = np.zeros((2, 3))\n",
    "\n",
    "    for j in range(len(snp_genotypes)):\n",
    "\n",
    "        genotype = snp_genotypes[j]\n",
    "        status = encoded_labels[j]\n",
    "\n",
    "        contingency_table[status, genotype] += 1\n",
    "\n",
    "    try:\n",
    "        chi2, p_value, _, _ = chi2_contingency(contingency_table)\n",
    "        \n",
    "    except:\n",
    "        \n",
    "        # adding 1 to every element to deal with zero-column problem\n",
    "        contingency_table = contingency_table + 1\n",
    "        chi2, p_value, _, _ = chi2_contingency(contingency_table)\n",
    "\n",
    "\n",
    "    p_values.append(p_value)"
   ]
  },
  {
   "cell_type": "markdown",
   "id": "57837c61",
   "metadata": {},
   "source": [
    "Now we'll convert our `p_values` list to a NumPy array, to make it easier to work with."
   ]
  },
  {
   "cell_type": "code",
   "execution_count": 55,
   "id": "f9413b11",
   "metadata": {},
   "outputs": [],
   "source": [
    "p_values = np.array(p_values)"
   ]
  },
  {
   "cell_type": "markdown",
   "id": "2b7afc17",
   "metadata": {},
   "source": [
    "Next we'll do a [Bonferroni correction](https://en.wikipedia.org/wiki/Bonferroni_correction), multiplying each p-value by the number of tests we did. [Here's a great comic explaining why this is necessary.](https://xkcd.com/882/)"
   ]
  },
  {
   "cell_type": "code",
   "execution_count": 53,
   "id": "b338eef2",
   "metadata": {},
   "outputs": [],
   "source": [
    "p_values_bonf = p_values * filtered_data.shape[0]"
   ]
  },
  {
   "cell_type": "markdown",
   "id": "b86e1e78",
   "metadata": {},
   "source": [
    "Now we can check to see if any SNPs came up statistically significant, after the Bonferroni correction."
   ]
  },
  {
   "cell_type": "code",
   "execution_count": 56,
   "id": "d215d88a",
   "metadata": {},
   "outputs": [
    {
     "name": "stdout",
     "output_type": "stream",
     "text": [
      "[['chr1:221240797' 'G' 'A']\n",
      " ['chr2:25491016' 'T' 'C']\n",
      " ['chr2:27677691' 'G' 'A']\n",
      " ['chr2:217890643' 'A' 'G']\n",
      " ['chr2:239567125' 'T' 'C']\n",
      " ['chr3:52739520' 'T' 'C']\n",
      " ['chr5:42582527' 'C' 'T']\n",
      " ['chr5:102282317' 'C' 'T']\n",
      " ['chr5:179729519' 'A' 'G']\n",
      " ['chr6:28169158' 'T' 'A']\n",
      " ['chr6:140688409' 'A' 'G']\n",
      " ['chr7:92657985' 'A' 'G']\n",
      " ['chr7:135262533' 'T' 'C']\n",
      " ['chr9:89081586' 'A' 'G']\n",
      " ['chr9:119176250' 'T' 'C']\n",
      " ['chr10:121124501' 'A' 'G']\n",
      " ['chr11:1890990' 'G' 'A']\n",
      " ['chr11:85436868' 'G' 'C']\n",
      " ['chr11:119054488' 'C' 'T']\n",
      " ['chr12:66359752' 'C' 'A']\n",
      " ['chr14:70469255' 'A' 'C']\n",
      " ['chr15:45526391' 'T' 'G']\n",
      " ['chr15:66051299' 'C' 'T']\n",
      " ['chr15:85171495' 'A' 'C']\n",
      " ['chr15:86159953' 'G' 'A']\n",
      " ['chr15:90113932' 'C' 'T']\n",
      " ['chr18:41427543' 'G' 'T']\n",
      " ['chr20:42279727' 'C' 'T']\n",
      " ['chr20:48597659' 'A' 'G']\n",
      " ['chr22:43116307' 'G' 'T']]\n"
     ]
    }
   ],
   "source": [
    "print(filtered_snp_info[p_values_bonf <= 0.05, ])"
   ]
  },
  {
   "cell_type": "markdown",
   "id": "32826f29",
   "metadata": {},
   "source": [
    "### **Step 4:** Manhattan Plot\n",
    "\n",
    "Now we'll make a Manhattan plot to visualize these results. First, we'll parse the *snp_ids* to separate the chromosome numbers and positions, and cast them to ints."
   ]
  },
  {
   "cell_type": "code",
   "execution_count": 58,
   "id": "ac3ddd5b",
   "metadata": {},
   "outputs": [],
   "source": [
    "filtered_snp_chromosomes = []\n",
    "filtered_snp_positions = []\n",
    "\n",
    "\n",
    "for i in range(filtered_snp_info.shape[0]):\n",
    "    \n",
    "    snp_id = filtered_snp_info[i,0]\n",
    "    \n",
    "    chromosome, position = snp_id.split(\":\")\n",
    "    \n",
    "    chromosome = chromosome.replace('chr', '')\n",
    "    \n",
    "    chromosome = int(chromosome)\n",
    "    position = int(position)\n",
    "    \n",
    "    \n",
    "    filtered_snp_chromosomes.append(chromosome)\n",
    "    filtered_snp_positions.append(position)\n",
    "    \n",
    "    \n",
    "filtered_snp_chromosomes = np.array(filtered_snp_chromosomes)\n",
    "filtered_snp_positions = np.array(filtered_snp_positions)"
   ]
  },
  {
   "cell_type": "markdown",
   "id": "e5ceaca7",
   "metadata": {},
   "source": [
    "Next, we'll take the negative log of the raw p-values, so that the lowest p-values will be high positive numbers."
   ]
  },
  {
   "cell_type": "code",
   "execution_count": 60,
   "id": "50594a72",
   "metadata": {},
   "outputs": [],
   "source": [
    "neg_log_p_values = -np.log10(p_values)"
   ]
  },
  {
   "cell_type": "markdown",
   "id": "6fdfa03a",
   "metadata": {},
   "source": [
    "This is a pretty tricky plot to make, so I found it easiest to just use ChatGPT. My rule with ChatGPT is to only use it for things where I can immediately check if it's getting it right or not, like plotting and string manipulation."
   ]
  },
  {
   "cell_type": "code",
   "execution_count": 61,
   "id": "0155c721",
   "metadata": {},
   "outputs": [
    {
     "data": {
      "image/png": "[encoded data removed]",
      "text/plain": [
       "<Figure size 1200x600 with 1 Axes>"
      ]
     },
     "metadata": {},
     "output_type": "display_data"
    }
   ],
   "source": [
    "# Create a DataFrame-like structure using NumPy\n",
    "snp_data = np.column_stack((filtered_snp_chromosomes, filtered_snp_positions, neg_log_p_values))\n",
    "\n",
    "# Sort the data by chromosome and position\n",
    "snp_data = snp_data[np.lexsort((snp_data[:, 1], snp_data[:, 0]))]\n",
    "\n",
    "# Compute cumulative positions\n",
    "cumulative_positions = np.zeros_like(filtered_snp_positions)\n",
    "chromosome_offsets = {}\n",
    "midpoints = []\n",
    "\n",
    "current_offset = 0\n",
    "for chromosome in np.unique(filtered_snp_chromosomes):\n",
    "    chrom_mask = filtered_snp_chromosomes == chromosome\n",
    "    chromosome_offsets[chromosome] = current_offset\n",
    "    cumulative_positions[chrom_mask] = filtered_snp_positions[chrom_mask] + current_offset\n",
    "    midpoints.append((current_offset + np.max(cumulative_positions[chrom_mask])) / 2)\n",
    "    current_offset += np.max(filtered_snp_positions[chrom_mask]) + 1  # Add a buffer between chromosomes\n",
    "\n",
    "# Prepare the Manhattan plot\n",
    "plt.figure(figsize=(12, 6))\n",
    "\n",
    "# Define colors for different chromosomes\n",
    "colors = ['#1f77b4', '#ff7f0e']\n",
    "\n",
    "# Plot each chromosome with alternating colors and smaller dots\n",
    "dot_size = 10  # Adjust this value to change the size of the dots\n",
    "current_chromosome = 1\n",
    "for chromosome in np.unique(snp_data[:, 0]):\n",
    "    chrom_mask = snp_data[:, 0] == chromosome\n",
    "    plt.scatter(cumulative_positions[chrom_mask], snp_data[chrom_mask, 2], c=colors[current_chromosome % 2], s=dot_size, label=f'Chromosome {chromosome}')\n",
    "    current_chromosome += 1\n",
    "\n",
    "# Add chromosome labels at midpoints\n",
    "plt.xticks(midpoints, np.unique(filtered_snp_chromosomes))\n",
    "\n",
    "# Add labels and title\n",
    "plt.xlabel('Chromosome')\n",
    "plt.ylabel('-log10(p-value)')\n",
    "plt.title('Manhattan Plot of GWAS Results')\n",
    "# plt.legend()\n",
    "\n",
    "# Show the plot\n",
    "plt.savefig(\"output/manhattan_plot.pdf\")\n",
    "\n",
    "plt.show()"
   ]
  }
 ],
 "metadata": {
  "kernelspec": {
   "display_name": "Python 3.11",
   "language": "python",
   "name": "python3.11"
  },
  "language_info": {
   "codemirror_mode": {
    "name": "ipython",
    "version": 3
   },
   "file_extension": ".py",
   "mimetype": "text/x-python",
   "name": "python",
   "nbconvert_exporter": "python",
   "pygments_lexer": "ipython3",
   "version": "3.11.4"
  }
 },
 "nbformat": 4,
 "nbformat_minor": 5
}
